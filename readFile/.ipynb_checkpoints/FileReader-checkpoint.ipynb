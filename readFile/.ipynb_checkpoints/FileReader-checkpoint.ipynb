{
 "cells": [
  {
   "cell_type": "markdown",
   "metadata": {},
   "source": [
    "## This Python Program will able to all valid data set inside the Parent Directory and will Store the out put in 'output' Directory in CSV Format "
   ]
  },
  {
   "cell_type": "code",
   "execution_count": 1,
   "metadata": {
    "ExecuteTime": {
     "end_time": "2020-07-25T09:34:48.730155Z",
     "start_time": "2020-07-25T09:34:39.404707Z"
    }
   },
   "outputs": [],
   "source": [
    "import os\n",
    "import pandas as pd\n",
    "import tabula\n",
    "from detect_delimiter import detect"
   ]
  },
  {
   "cell_type": "code",
   "execution_count": 2,
   "metadata": {
    "ExecuteTime": {
     "end_time": "2020-07-25T09:34:48.737917Z",
     "start_time": "2020-07-25T09:34:48.733717Z"
    }
   },
   "outputs": [],
   "source": [
    "PARENT = 'parent/'"
   ]
  },
  {
   "cell_type": "code",
   "execution_count": 3,
   "metadata": {
    "ExecuteTime": {
     "end_time": "2020-07-25T09:34:48.872004Z",
     "start_time": "2020-07-25T09:34:48.741055Z"
    }
   },
   "outputs": [
    {
     "data": {
      "text/plain": [
       "['child1', 'other', 'child3', 'output', 'child2']"
      ]
     },
     "execution_count": 3,
     "metadata": {},
     "output_type": "execute_result"
    }
   ],
   "source": [
    "parent_childs_dir = os.listdir(PARENT)\n",
    "parent_childs_dir"
   ]
  },
  {
   "cell_type": "code",
   "execution_count": 4,
   "metadata": {
    "ExecuteTime": {
     "end_time": "2020-07-25T09:34:48.957647Z",
     "start_time": "2020-07-25T09:34:48.875406Z"
    }
   },
   "outputs": [],
   "source": [
    "# skiping output directory if exists\n",
    "if 'output' in parent_childs_dir: parent_childs_dir.remove('output')"
   ]
  },
  {
   "cell_type": "code",
   "execution_count": 5,
   "metadata": {
    "ExecuteTime": {
     "end_time": "2020-07-25T09:34:49.079091Z",
     "start_time": "2020-07-25T09:34:48.963313Z"
    }
   },
   "outputs": [
    {
     "data": {
      "text/plain": [
       "{'child1': ['airports.json',\n",
       "  'classes_in_imagenet.csv',\n",
       "  'airbnb_session_data.txt'],\n",
       " 'other': ['Telecommination_Sept_2019.pdf',\n",
       "  'timeline.json.check',\n",
       "  'nba-team.json',\n",
       "  'RevListofPOs.pdf',\n",
       "  'imagenet_class_info.json',\n",
       "  'nba-players.json'],\n",
       " 'child3': ['fruit_data_with_colors.txt',\n",
       "  'contacts.json',\n",
       "  '2018022620.pdf',\n",
       "  'datasets.csv'],\n",
       " 'child2': ['alternative_rock_artists.json',\n",
       "  'GaCo03_01.txt',\n",
       "  'dt_custom_pdf.pdf',\n",
       "  'dataAggregated.csv']}"
      ]
     },
     "execution_count": 5,
     "metadata": {},
     "output_type": "execute_result"
    }
   ],
   "source": [
    "dir_dict = {}\n",
    "for one_dir in parent_childs_dir:\n",
    "    dir_dict[one_dir] = os.listdir(os.path.join(PARENT,one_dir))\n",
    "dir_dict"
   ]
  },
  {
   "cell_type": "markdown",
   "metadata": {},
   "source": [
    "#### directory structure"
   ]
  },
  {
   "cell_type": "code",
   "execution_count": 6,
   "metadata": {
    "ExecuteTime": {
     "end_time": "2020-07-25T09:34:49.197899Z",
     "start_time": "2020-07-25T09:34:49.084307Z"
    }
   },
   "outputs": [
    {
     "name": "stdout",
     "output_type": "stream",
     "text": [
      "child1 -->  airports.json,classes_in_imagenet.csv,airbnb_session_data.txt,\n",
      "\n",
      "other -->  Telecommination_Sept_2019.pdf,timeline.json.check,nba-team.json,RevListofPOs.pdf,imagenet_class_info.json,nba-players.json,\n",
      "\n",
      "child3 -->  fruit_data_with_colors.txt,contacts.json,2018022620.pdf,datasets.csv,\n",
      "\n",
      "child2 -->  alternative_rock_artists.json,GaCo03_01.txt,dt_custom_pdf.pdf,dataAggregated.csv,\n",
      "\n"
     ]
    }
   ],
   "source": [
    "for oneD in dir_dict.items():\n",
    "    print(oneD[0],'-->  ',end='')\n",
    "    for oneF in oneD[1]:\n",
    "        print(oneF,end=',')\n",
    "    print('\\n')"
   ]
  },
  {
   "cell_type": "code",
   "execution_count": 7,
   "metadata": {
    "ExecuteTime": {
     "end_time": "2020-07-25T09:34:49.280647Z",
     "start_time": "2020-07-25T09:34:49.211506Z"
    }
   },
   "outputs": [],
   "source": [
    "def read_json(json_file):\n",
    "    return pd.read_json(json_file)"
   ]
  },
  {
   "cell_type": "code",
   "execution_count": 8,
   "metadata": {
    "ExecuteTime": {
     "end_time": "2020-07-25T09:34:49.380436Z",
     "start_time": "2020-07-25T09:34:49.284547Z"
    }
   },
   "outputs": [],
   "source": [
    "def read_csv(csv_file):\n",
    "    with open(csv_file,'r') as csvfile:\n",
    "        text = csvfile.read()\n",
    "    return pd.read_csv(csv_file,sep=detect(text))"
   ]
  },
  {
   "cell_type": "code",
   "execution_count": 9,
   "metadata": {
    "ExecuteTime": {
     "end_time": "2020-07-25T09:34:49.481749Z",
     "start_time": "2020-07-25T09:34:49.384326Z"
    }
   },
   "outputs": [],
   "source": [
    "def read_txt(txt_file):\n",
    "    try:\n",
    "        with open(txt_file,'r') as txtfile:\n",
    "            text = txtfile.read()\n",
    "        return pd.read_csv(txt_file,sep=detect(text))        \n",
    "    except Exception as e:\n",
    "        print('some error in',txt_file,e)\n",
    "        return None"
   ]
  },
  {
   "cell_type": "code",
   "execution_count": 10,
   "metadata": {
    "ExecuteTime": {
     "end_time": "2020-07-25T09:34:49.582147Z",
     "start_time": "2020-07-25T09:34:49.486006Z"
    }
   },
   "outputs": [],
   "source": [
    "def read_pdf(pdf_file):\n",
    "    pdf_list = tabula.read_pdf(pdf_file)\n",
    "    return pd.DataFrame(pdf_list[0])"
   ]
  },
  {
   "cell_type": "code",
   "execution_count": 11,
   "metadata": {
    "ExecuteTime": {
     "end_time": "2020-07-25T09:34:49.730342Z",
     "start_time": "2020-07-25T09:34:49.587512Z"
    }
   },
   "outputs": [],
   "source": [
    "def read_doc(doc_file):\n",
    "    print('doc file reader')\n",
    "    pass"
   ]
  },
  {
   "cell_type": "code",
   "execution_count": 12,
   "metadata": {
    "ExecuteTime": {
     "end_time": "2020-07-25T09:34:49.825666Z",
     "start_time": "2020-07-25T09:34:49.733343Z"
    }
   },
   "outputs": [],
   "source": [
    "def read_files(dir_dict):\n",
    "    for one_dir in dir_dict.items():\n",
    "        for one_file in one_dir[1]:\n",
    "            \n",
    "            # extension of file\n",
    "            extension = os.path.splitext(one_file)[1]\n",
    "            \n",
    "            # Full file path\n",
    "            full_path = os.path.join(PARENT,one_dir[0],one_file)\n",
    "            file_path_without_extension = os.path.join(PARENT,one_dir[0],os.path.splitext(one_file)[0])\n",
    "            \n",
    "            if extension == '.json':\n",
    "                df = read_json(full_path)\n",
    "            elif extension == '.csv':\n",
    "                df = read_csv(full_path)\n",
    "            elif extension == '.txt':\n",
    "                df = read_txt(full_path)\n",
    "            elif extension == '.pdf':\n",
    "                df = read_pdf(full_path)\n",
    "            elif extension == '.docx':\n",
    "                df = read_doc(full_path)\n",
    "            \n",
    "            if df is not None:\n",
    "                yield df,file_path_without_extension                "
   ]
  },
  {
   "cell_type": "code",
   "execution_count": 13,
   "metadata": {
    "ExecuteTime": {
     "end_time": "2020-07-25T09:34:49.924804Z",
     "start_time": "2020-07-25T09:34:49.829737Z"
    }
   },
   "outputs": [],
   "source": [
    "result = read_files(dir_dict)"
   ]
  },
  {
   "cell_type": "markdown",
   "metadata": {},
   "source": [
    "### Exporting Data"
   ]
  },
  {
   "cell_type": "code",
   "execution_count": 14,
   "metadata": {
    "ExecuteTime": {
     "end_time": "2020-07-25T09:34:50.013827Z",
     "start_time": "2020-07-25T09:34:49.928104Z"
    }
   },
   "outputs": [],
   "source": [
    "output_path = os.path.join(PARENT,'output')\n",
    "if not os.path.exists(output_path):\n",
    "    os.mkdir(output_path)"
   ]
  },
  {
   "cell_type": "code",
   "execution_count": 15,
   "metadata": {
    "ExecuteTime": {
     "end_time": "2020-07-25T09:35:19.726050Z",
     "start_time": "2020-07-25T09:34:50.017754Z"
    },
    "scrolled": true
   },
   "outputs": [
    {
     "name": "stdout",
     "output_type": "stream",
     "text": [
      "df to csv\n",
      "df to csv\n"
     ]
    },
    {
     "name": "stderr",
     "output_type": "stream",
     "text": [
      "'pages' argument isn't specified.Will extract only from page 1 by default.\n"
     ]
    },
    {
     "name": "stdout",
     "output_type": "stream",
     "text": [
      "df to csv\n"
     ]
    },
    {
     "name": "stderr",
     "output_type": "stream",
     "text": [
      "Got stderr: Jul 25, 2020 3:04:53 PM org.apache.pdfbox.pdmodel.font.PDTrueTypeFont <init>\n",
      "WARNING: Using fallback font 'LiberationSans-Bold' for 'TimesNewRomanPS-BoldMT'\n",
      "Jul 25, 2020 3:04:54 PM org.apache.pdfbox.pdmodel.font.PDCIDFontType2 <init>\n",
      "INFO: OpenType Layout tables used in font TimesNewRomanPS-BoldMT are not implemented in PDFBox and will be ignored\n",
      "Jul 25, 2020 3:04:54 PM org.apache.pdfbox.pdmodel.font.PDTrueTypeFont <init>\n",
      "WARNING: Using fallback font 'LiberationSans' for 'TimesNewRomanPSMT'\n",
      "Jul 25, 2020 3:04:55 PM org.apache.pdfbox.pdmodel.font.PDTrueTypeFont <init>\n",
      "WARNING: Using fallback font 'LiberationSans-Bold' for 'TimesNewRomanPS-BoldMT'\n",
      "Jul 25, 2020 3:04:55 PM org.apache.pdfbox.pdmodel.font.PDCIDFontType2 <init>\n",
      "INFO: OpenType Layout tables used in font TimesNewRomanPS-BoldMT are not implemented in PDFBox and will be ignored\n",
      "Jul 25, 2020 3:04:55 PM org.apache.pdfbox.pdmodel.font.PDTrueTypeFont <init>\n",
      "WARNING: Using fallback font 'LiberationSans' for 'TimesNewRomanPSMT'\n",
      "Jul 25, 2020 3:04:56 PM org.apache.pdfbox.pdmodel.font.PDTrueTypeFont <init>\n",
      "WARNING: Using fallback font 'LiberationSans-Bold' for 'TimesNewRomanPS-BoldMT'\n",
      "Jul 25, 2020 3:04:56 PM org.apache.pdfbox.pdmodel.font.PDCIDFontType2 <init>\n",
      "INFO: OpenType Layout tables used in font TimesNewRomanPS-BoldMT are not implemented in PDFBox and will be ignored\n",
      "Jul 25, 2020 3:04:56 PM org.apache.pdfbox.pdmodel.font.PDTrueTypeFont <init>\n",
      "WARNING: Using fallback font 'LiberationSans' for 'TimesNewRomanPSMT'\n",
      "\n",
      "'pages' argument isn't specified.Will extract only from page 1 by default.\n"
     ]
    },
    {
     "name": "stdout",
     "output_type": "stream",
     "text": [
      "df to csv\n",
      "df to csv\n",
      "df to csv\n"
     ]
    },
    {
     "name": "stderr",
     "output_type": "stream",
     "text": [
      "Got stderr: Jul 25, 2020 3:04:58 PM org.apache.pdfbox.pdmodel.font.PDTrueTypeFont <init>\n",
      "WARNING: Using fallback font 'LiberationSans-Bold' for 'Arial-BoldMT,Bold'\n",
      "\n"
     ]
    },
    {
     "name": "stdout",
     "output_type": "stream",
     "text": [
      "df to csv\n"
     ]
    },
    {
     "name": "stderr",
     "output_type": "stream",
     "text": [
      "'pages' argument isn't specified.Will extract only from page 1 by default.\n"
     ]
    },
    {
     "name": "stdout",
     "output_type": "stream",
     "text": [
      "df to csv\n",
      "df to csv\n",
      "df to csv\n",
      "df to csv\n"
     ]
    },
    {
     "name": "stderr",
     "output_type": "stream",
     "text": [
      "Got stderr: Jul 25, 2020 3:05:13 PM org.apache.pdfbox.pdmodel.font.PDTrueTypeFont <init>\n",
      "WARNING: Using fallback font 'LiberationSans-Bold' for 'Calibri-Bold'\n",
      "\n",
      "/home/amritesh/anaconda3/lib/python3.7/site-packages/ipykernel_launcher.py:4: ParserWarning: Falling back to the 'python' engine because the 'c' engine does not support sep=None with delim_whitespace=False; you can avoid this warning by specifying engine='python'.\n",
      "  after removing the cwd from sys.path.\n"
     ]
    },
    {
     "name": "stdout",
     "output_type": "stream",
     "text": [
      "df to csv\n",
      "df to csv\n",
      "df to csv\n"
     ]
    },
    {
     "name": "stderr",
     "output_type": "stream",
     "text": [
      "'pages' argument isn't specified.Will extract only from page 1 by default.\n"
     ]
    },
    {
     "name": "stdout",
     "output_type": "stream",
     "text": [
      "df to csv\n",
      "df to csv\n",
      "df to csv\n"
     ]
    }
   ],
   "source": [
    "for res in result:\n",
    "    try:\n",
    "        file_name = os.path.join(res[1],'.csv').replace('/','_')\n",
    "        full_path = os.path.join(output_path,file_name)\n",
    "#         print(res[0])\n",
    "    #     print(res[0] instanceof list)\n",
    "        if isinstance(res[0],list):\n",
    "            pd.DataFrame(res[0]).to_csv(full_path,index=False)\n",
    "            print('coveritn list to df')\n",
    "        else:\n",
    "            res[0].to_csv(full_path,index=False)\n",
    "            print('df to csv')\n",
    "            \n",
    "    except:\n",
    "        print('Some error',res[1])"
   ]
  },
  {
   "cell_type": "code",
   "execution_count": 16,
   "metadata": {
    "ExecuteTime": {
     "end_time": "2020-07-25T09:35:19.887139Z",
     "start_time": "2020-07-25T09:35:19.731339Z"
    }
   },
   "outputs": [
    {
     "name": "stdout",
     "output_type": "stream",
     "text": [
      "parent_child1_airbnb_session_data_.csv\r\n",
      "parent_child1_airports_.csv\r\n",
      "parent_child1_classes_in_imagenet_.csv\r\n",
      "parent_child2_alternative_rock_artists_.csv\r\n",
      "parent_child2_dataAggregated_.csv\r\n",
      "parent_child2_dt_custom_pdf_.csv\r\n",
      "parent_child2_GaCo03_01_.csv\r\n",
      "parent_child3_2018022620_.csv\r\n",
      "parent_child3_contacts_.csv\r\n",
      "parent_child3_datasets_.csv\r\n",
      "parent_child3_fruit_data_with_colors_.csv\r\n",
      "parent_other_imagenet_class_info_.csv\r\n",
      "parent_other_nba-players_.csv\r\n",
      "parent_other_nba-team_.csv\r\n",
      "parent_other_RevListofPOs_.csv\r\n",
      "parent_other_Telecommination_Sept_2019_.csv\r\n",
      "parent_other_timeline.json_.csv\r\n"
     ]
    }
   ],
   "source": [
    "\n",
    "!ls parent/output/"
   ]
  }
 ],
 "metadata": {
  "kernelspec": {
   "display_name": "Python 3",
   "language": "python",
   "name": "python3"
  },
  "language_info": {
   "codemirror_mode": {
    "name": "ipython",
    "version": 3
   },
   "file_extension": ".py",
   "mimetype": "text/x-python",
   "name": "python",
   "nbconvert_exporter": "python",
   "pygments_lexer": "ipython3",
   "version": "3.7.4"
  }
 },
 "nbformat": 4,
 "nbformat_minor": 2
}
