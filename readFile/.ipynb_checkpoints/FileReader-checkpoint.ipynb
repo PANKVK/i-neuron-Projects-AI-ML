{
 "cells": [
  {
   "cell_type": "code",
   "execution_count": 27,
   "metadata": {
    "ExecuteTime": {
     "end_time": "2020-07-19T16:47:19.222105Z",
     "start_time": "2020-07-19T16:47:10.624300Z"
    }
   },
   "outputs": [],
   "source": [
    "import os\n",
    "import pandas as pd"
   ]
  },
  {
   "cell_type": "code",
   "execution_count": 28,
   "metadata": {
    "ExecuteTime": {
     "end_time": "2020-07-19T16:47:19.234326Z",
     "start_time": "2020-07-19T16:47:19.228716Z"
    }
   },
   "outputs": [],
   "source": [
    "PARENT = 'parent/'"
   ]
  },
  {
   "cell_type": "code",
   "execution_count": 29,
   "metadata": {
    "ExecuteTime": {
     "end_time": "2020-07-19T16:47:19.406582Z",
     "start_time": "2020-07-19T16:47:19.237904Z"
    }
   },
   "outputs": [
    {
     "data": {
      "text/plain": [
       "['child1', 'other', 'child3', 'child2']"
      ]
     },
     "execution_count": 29,
     "metadata": {},
     "output_type": "execute_result"
    }
   ],
   "source": [
    "parent_childs_dir = os.listdir(PARENT)\n",
    "parent_childs_dir"
   ]
  },
  {
   "cell_type": "code",
   "execution_count": 30,
   "metadata": {
    "ExecuteTime": {
     "end_time": "2020-07-19T16:47:19.492579Z",
     "start_time": "2020-07-19T16:47:19.409958Z"
    }
   },
   "outputs": [
    {
     "data": {
      "text/plain": [
       "{'child1': ['airports.json',\n",
       "  'classes_in_imagenet.csv',\n",
       "  'airbnb_session_data.txt'],\n",
       " 'other': ['timeline.json',\n",
       "  'nba-team.json',\n",
       "  'imagenet_class_info.json',\n",
       "  'nba-players.json'],\n",
       " 'child3': ['fruit_data_with_colors.txt', 'contacts.json', 'datasets.csv'],\n",
       " 'child2': ['alternative_rock_artists.json',\n",
       "  'GaCo03_01.txt',\n",
       "  'dataAggregated.csv']}"
      ]
     },
     "execution_count": 30,
     "metadata": {},
     "output_type": "execute_result"
    }
   ],
   "source": [
    "dir_dict = {}\n",
    "for one_dir in parent_childs_dir:\n",
    "    dir_dict[one_dir] = os.listdir(PARENT+'/'+one_dir)\n",
    "dir_dict"
   ]
  },
  {
   "cell_type": "code",
   "execution_count": 31,
   "metadata": {
    "ExecuteTime": {
     "end_time": "2020-07-19T16:47:19.602739Z",
     "start_time": "2020-07-19T16:47:19.496894Z"
    }
   },
   "outputs": [
    {
     "name": "stdout",
     "output_type": "stream",
     "text": [
      "child1 ----> ['airports.json', 'classes_in_imagenet.csv', 'airbnb_session_data.txt']\n",
      "other ----> ['timeline.json', 'nba-team.json', 'imagenet_class_info.json', 'nba-players.json']\n",
      "child3 ----> ['fruit_data_with_colors.txt', 'contacts.json', 'datasets.csv']\n",
      "child2 ----> ['alternative_rock_artists.json', 'GaCo03_01.txt', 'dataAggregated.csv']\n"
     ]
    }
   ],
   "source": [
    "def read_files(dir_dict):\n",
    "    for one_dir in dir_dict.items():\n",
    "        print(one_dir[0],'---->',one_dir[1])\n",
    "read_files(dir_dict)"
   ]
  },
  {
   "cell_type": "code",
   "execution_count": 32,
   "metadata": {
    "ExecuteTime": {
     "end_time": "2020-07-19T16:47:27.894535Z",
     "start_time": "2020-07-19T16:47:27.888752Z"
    }
   },
   "outputs": [],
   "source": [
    "def read_json(json_file):\n",
    "    return pd.read_json(json_file)"
   ]
  },
  {
   "cell_type": "code",
   "execution_count": 33,
   "metadata": {
    "ExecuteTime": {
     "end_time": "2020-07-19T16:47:51.078746Z",
     "start_time": "2020-07-19T16:47:51.073167Z"
    }
   },
   "outputs": [],
   "source": [
    "def read_csv(csv_file):\n",
    "    return pd.read_csv(csv_file)"
   ]
  },
  {
   "cell_type": "code",
   "execution_count": 22,
   "metadata": {
    "ExecuteTime": {
     "end_time": "2020-07-19T16:44:45.893915Z",
     "start_time": "2020-07-19T16:44:45.888207Z"
    }
   },
   "outputs": [],
   "source": [
    "def read_txt(txt_file):\n",
    "    pass"
   ]
  },
  {
   "cell_type": "code",
   "execution_count": 23,
   "metadata": {
    "ExecuteTime": {
     "end_time": "2020-07-19T16:45:04.277631Z",
     "start_time": "2020-07-19T16:45:04.272483Z"
    }
   },
   "outputs": [],
   "source": [
    "def read_pdf(pdf_file):\n",
    "    pass"
   ]
  },
  {
   "cell_type": "code",
   "execution_count": 25,
   "metadata": {
    "ExecuteTime": {
     "end_time": "2020-07-19T16:46:25.370274Z",
     "start_time": "2020-07-19T16:46:25.365876Z"
    }
   },
   "outputs": [],
   "source": [
    "def read_doc(doc_file):\n",
    "    pass"
   ]
  },
  {
   "cell_type": "code",
   "execution_count": null,
   "metadata": {},
   "outputs": [],
   "source": []
  }
 ],
 "metadata": {
  "kernelspec": {
   "display_name": "Python 3",
   "language": "python",
   "name": "python3"
  },
  "language_info": {
   "codemirror_mode": {
    "name": "ipython",
    "version": 3
   },
   "file_extension": ".py",
   "mimetype": "text/x-python",
   "name": "python",
   "nbconvert_exporter": "python",
   "pygments_lexer": "ipython3",
   "version": "3.7.4"
  }
 },
 "nbformat": 4,
 "nbformat_minor": 2
}
