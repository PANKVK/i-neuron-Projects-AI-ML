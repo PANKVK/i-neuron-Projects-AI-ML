{
 "cells": [
  {
   "cell_type": "markdown",
   "metadata": {},
   "source": [
    "## This Python Program will able to all valid data set inside the Parent Directory and will Store the out put in 'output' Directory in CSV Format "
   ]
  },
  {
   "cell_type": "code",
   "execution_count": 1,
   "metadata": {
    "ExecuteTime": {
     "end_time": "2020-07-19T17:51:38.409454Z",
     "start_time": "2020-07-19T17:51:37.805451Z"
    }
   },
   "outputs": [],
   "source": [
    "import os\n",
    "import pandas as pd"
   ]
  },
  {
   "cell_type": "code",
   "execution_count": 2,
   "metadata": {
    "ExecuteTime": {
     "end_time": "2020-07-19T17:51:38.417145Z",
     "start_time": "2020-07-19T17:51:38.412642Z"
    }
   },
   "outputs": [],
   "source": [
    "PARENT = 'parent/'"
   ]
  },
  {
   "cell_type": "code",
   "execution_count": 3,
   "metadata": {
    "ExecuteTime": {
     "end_time": "2020-07-19T17:51:38.504697Z",
     "start_time": "2020-07-19T17:51:38.421751Z"
    }
   },
   "outputs": [
    {
     "data": {
      "text/plain": [
       "['child1', 'other', 'child3', 'output', 'child2']"
      ]
     },
     "execution_count": 3,
     "metadata": {},
     "output_type": "execute_result"
    }
   ],
   "source": [
    "parent_childs_dir = os.listdir(PARENT)\n",
    "parent_childs_dir"
   ]
  },
  {
   "cell_type": "code",
   "execution_count": 4,
   "metadata": {
    "ExecuteTime": {
     "end_time": "2020-07-19T17:51:38.574602Z",
     "start_time": "2020-07-19T17:51:38.509138Z"
    }
   },
   "outputs": [],
   "source": [
    "# skiping output directory if exists\n",
    "if 'output' in parent_childs_dir: parent_childs_dir.remove('output')"
   ]
  },
  {
   "cell_type": "code",
   "execution_count": 5,
   "metadata": {
    "ExecuteTime": {
     "end_time": "2020-07-19T17:51:38.670067Z",
     "start_time": "2020-07-19T17:51:38.577670Z"
    }
   },
   "outputs": [
    {
     "data": {
      "text/plain": [
       "{'child1': ['airports.json',\n",
       "  'classes_in_imagenet.csv',\n",
       "  'airbnb_session_data.txt'],\n",
       " 'other': ['timeline.json.check',\n",
       "  'nba-team.json',\n",
       "  'imagenet_class_info.json',\n",
       "  'nba-players.json'],\n",
       " 'child3': ['fruit_data_with_colors.txt', 'contacts.json', 'datasets.csv'],\n",
       " 'child2': ['alternative_rock_artists.json',\n",
       "  'GaCo03_01.txt',\n",
       "  'dataAggregated.csv']}"
      ]
     },
     "execution_count": 5,
     "metadata": {},
     "output_type": "execute_result"
    }
   ],
   "source": [
    "dir_dict = {}\n",
    "for one_dir in parent_childs_dir:\n",
    "    dir_dict[one_dir] = os.listdir(os.path.join(PARENT,one_dir))\n",
    "dir_dict"
   ]
  },
  {
   "cell_type": "code",
   "execution_count": 6,
   "metadata": {
    "ExecuteTime": {
     "end_time": "2020-07-19T17:51:38.753234Z",
     "start_time": "2020-07-19T17:51:38.676756Z"
    }
   },
   "outputs": [],
   "source": [
    "def read_json(json_file):\n",
    "    return pd.read_json(json_file)"
   ]
  },
  {
   "cell_type": "code",
   "execution_count": 7,
   "metadata": {
    "ExecuteTime": {
     "end_time": "2020-07-19T17:51:38.843679Z",
     "start_time": "2020-07-19T17:51:38.759475Z"
    }
   },
   "outputs": [],
   "source": [
    "def read_csv(csv_file):\n",
    "    return pd.read_csv(csv_file)"
   ]
  },
  {
   "cell_type": "code",
   "execution_count": 8,
   "metadata": {
    "ExecuteTime": {
     "end_time": "2020-07-19T17:51:38.932038Z",
     "start_time": "2020-07-19T17:51:38.849563Z"
    }
   },
   "outputs": [],
   "source": [
    "def read_txt(txt_file):\n",
    "    pass"
   ]
  },
  {
   "cell_type": "code",
   "execution_count": 9,
   "metadata": {
    "ExecuteTime": {
     "end_time": "2020-07-19T17:51:39.030009Z",
     "start_time": "2020-07-19T17:51:38.938283Z"
    }
   },
   "outputs": [],
   "source": [
    "def read_pdf(pdf_file):\n",
    "    print('json file pdf')\n",
    "    pass"
   ]
  },
  {
   "cell_type": "code",
   "execution_count": 10,
   "metadata": {
    "ExecuteTime": {
     "end_time": "2020-07-19T17:51:39.120134Z",
     "start_time": "2020-07-19T17:51:39.033278Z"
    }
   },
   "outputs": [],
   "source": [
    "def read_doc(doc_file):\n",
    "    print('doc file reader')\n",
    "    pass"
   ]
  },
  {
   "cell_type": "code",
   "execution_count": 11,
   "metadata": {
    "ExecuteTime": {
     "end_time": "2020-07-19T17:51:39.222181Z",
     "start_time": "2020-07-19T17:51:39.125071Z"
    }
   },
   "outputs": [],
   "source": [
    "def read_files(dir_dict):\n",
    "    for one_dir in dir_dict.items():\n",
    "        for one_file in one_dir[1]:\n",
    "            \n",
    "            # extension of file\n",
    "            extension = os.path.splitext(one_file)[1]\n",
    "            \n",
    "            # Full file path\n",
    "            full_path = os.path.join(PARENT,one_dir[0],one_file)\n",
    "            file_path_without_extension = os.path.join(PARENT,one_dir[0],os.path.splitext(one_file)[0])\n",
    "            \n",
    "            if extension == '.json':\n",
    "                df = read_json(full_path)\n",
    "            elif extension == '.csv':\n",
    "                df = read_csv(full_path)\n",
    "            elif extension == '.txt':\n",
    "                df = read_txt(full_path)\n",
    "            elif extension == '.pdf':\n",
    "                df = read_pdf(full_path)\n",
    "            elif extension == '.docx':\n",
    "                df = read_doc(full_path)\n",
    "            \n",
    "            if df is not None:\n",
    "                yield df,file_path_without_extension                "
   ]
  },
  {
   "cell_type": "code",
   "execution_count": 12,
   "metadata": {
    "ExecuteTime": {
     "end_time": "2020-07-19T17:51:39.359963Z",
     "start_time": "2020-07-19T17:51:39.228458Z"
    }
   },
   "outputs": [],
   "source": [
    "result = read_files(dir_dict)"
   ]
  },
  {
   "cell_type": "markdown",
   "metadata": {},
   "source": [
    "### Exporting Data"
   ]
  },
  {
   "cell_type": "code",
   "execution_count": 13,
   "metadata": {
    "ExecuteTime": {
     "end_time": "2020-07-19T17:51:39.432971Z",
     "start_time": "2020-07-19T17:51:39.366258Z"
    }
   },
   "outputs": [],
   "source": [
    "output_path = os.path.join(PARENT,'output')\n",
    "if not os.path.exists(output_path):\n",
    "    os.mkdir(output_path)"
   ]
  },
  {
   "cell_type": "code",
   "execution_count": 14,
   "metadata": {
    "ExecuteTime": {
     "end_time": "2020-07-19T17:51:50.283037Z",
     "start_time": "2020-07-19T17:51:39.437411Z"
    },
    "scrolled": true
   },
   "outputs": [],
   "source": [
    "for res in result:\n",
    "    file_name = os.path.join(res[1],'.csv').replace('/','_')\n",
    "    full_path = os.path.join(output_path,file_name)\n",
    "    res[0].to_csv(full_path,index=False)"
   ]
  },
  {
   "cell_type": "code",
   "execution_count": 15,
   "metadata": {
    "ExecuteTime": {
     "end_time": "2020-07-19T17:51:50.416713Z",
     "start_time": "2020-07-19T17:51:50.285441Z"
    }
   },
   "outputs": [
    {
     "name": "stdout",
     "output_type": "stream",
     "text": [
      "parent_child1_airports_.csv\r\n",
      "parent_child1_classes_in_imagenet_.csv\r\n",
      "parent_child2_alternative_rock_artists_.csv\r\n",
      "parent_child2_dataAggregated_.csv\r\n",
      "parent_child3_contacts_.csv\r\n",
      "parent_child3_datasets_.csv\r\n",
      "parent_other_imagenet_class_info_.csv\r\n",
      "parent_other_nba-players_.csv\r\n",
      "parent_other_nba-team_.csv\r\n"
     ]
    }
   ],
   "source": [
    "!ls parent/output/"
   ]
  },
  {
   "cell_type": "code",
   "execution_count": null,
   "metadata": {},
   "outputs": [],
   "source": []
  }
 ],
 "metadata": {
  "kernelspec": {
   "display_name": "Python 3",
   "language": "python",
   "name": "python3"
  },
  "language_info": {
   "codemirror_mode": {
    "name": "ipython",
    "version": 3
   },
   "file_extension": ".py",
   "mimetype": "text/x-python",
   "name": "python",
   "nbconvert_exporter": "python",
   "pygments_lexer": "ipython3",
   "version": "3.7.4"
  }
 },
 "nbformat": 4,
 "nbformat_minor": 2
}
